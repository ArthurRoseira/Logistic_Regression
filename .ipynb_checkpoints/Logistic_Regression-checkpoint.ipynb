{
 "cells": [
  {
   "cell_type": "markdown",
   "id": "noble-scottish",
   "metadata": {},
   "source": [
    "## Logistic Regression \n",
    "\n",
    "\n",
    "#### Dataset: Social Network Ads\n",
    "\n",
    "A categorical dataset to determine wheather a user purchased a partucular product. This data is given by a online shopping site. Which includes customer id, gender, age, salary and weather he/she purchased anything or not.\n",
    "\n",
    "#### Model\n",
    "\n",
    "Logistic Regression is used in statistics to model the probabilities of certain class or event and works by trying to fit the best S shape line of the logistic function in the data. It's used for classification and the output lies between 0 or 1.\n",
    "For this model the loss function will be the L2 (least square error) and to minimize its value will be used the gradient descent method to calculate the best combinations of weights that produces the minium value for the cost function.\n",
    "\n",
    "#### Objective\n",
    "\n",
    "The main goal of this work is, based on the features in the dataset, predict if a given custume is likely to buy something or not"
   ]
  },
  {
   "cell_type": "markdown",
   "id": "suspended-oakland",
   "metadata": {},
   "source": [
    "### Python Libraries"
   ]
  },
  {
   "cell_type": "code",
   "execution_count": 1,
   "id": "aging-nightmare",
   "metadata": {},
   "outputs": [],
   "source": [
    "import numpy as np\n",
    "import pandas as pd \n",
    "import matplotlib.pyplot as plt\n",
    "from sklearn.model_selection import train_test_split\n",
    "from math import exp\n",
    "plt.rcParams[\"figure.figsize\"] = (10, 6)"
   ]
  },
  {
   "cell_type": "markdown",
   "id": "higher-median",
   "metadata": {},
   "source": [
    "### Loading the Data\n",
    "\n",
    "The data was downloaded from Kaggle in this link: https://www.kaggle.com/rakeshrau/social-network-ads"
   ]
  },
  {
   "cell_type": "code",
   "execution_count": 2,
   "id": "gross-heather",
   "metadata": {},
   "outputs": [
    {
     "data": {
      "text/html": [
       "<div>\n",
       "<style scoped>\n",
       "    .dataframe tbody tr th:only-of-type {\n",
       "        vertical-align: middle;\n",
       "    }\n",
       "\n",
       "    .dataframe tbody tr th {\n",
       "        vertical-align: top;\n",
       "    }\n",
       "\n",
       "    .dataframe thead th {\n",
       "        text-align: right;\n",
       "    }\n",
       "</style>\n",
       "<table border=\"1\" class=\"dataframe\">\n",
       "  <thead>\n",
       "    <tr style=\"text-align: right;\">\n",
       "      <th></th>\n",
       "      <th>User ID</th>\n",
       "      <th>Gender</th>\n",
       "      <th>Age</th>\n",
       "      <th>EstimatedSalary</th>\n",
       "      <th>Purchased</th>\n",
       "    </tr>\n",
       "  </thead>\n",
       "  <tbody>\n",
       "    <tr>\n",
       "      <th>0</th>\n",
       "      <td>15624510</td>\n",
       "      <td>Male</td>\n",
       "      <td>19</td>\n",
       "      <td>19000</td>\n",
       "      <td>0</td>\n",
       "    </tr>\n",
       "    <tr>\n",
       "      <th>1</th>\n",
       "      <td>15810944</td>\n",
       "      <td>Male</td>\n",
       "      <td>35</td>\n",
       "      <td>20000</td>\n",
       "      <td>0</td>\n",
       "    </tr>\n",
       "    <tr>\n",
       "      <th>2</th>\n",
       "      <td>15668575</td>\n",
       "      <td>Female</td>\n",
       "      <td>26</td>\n",
       "      <td>43000</td>\n",
       "      <td>0</td>\n",
       "    </tr>\n",
       "    <tr>\n",
       "      <th>3</th>\n",
       "      <td>15603246</td>\n",
       "      <td>Female</td>\n",
       "      <td>27</td>\n",
       "      <td>57000</td>\n",
       "      <td>0</td>\n",
       "    </tr>\n",
       "    <tr>\n",
       "      <th>4</th>\n",
       "      <td>15804002</td>\n",
       "      <td>Male</td>\n",
       "      <td>19</td>\n",
       "      <td>76000</td>\n",
       "      <td>0</td>\n",
       "    </tr>\n",
       "  </tbody>\n",
       "</table>\n",
       "</div>"
      ],
      "text/plain": [
       "    User ID  Gender  Age  EstimatedSalary  Purchased\n",
       "0  15624510    Male   19            19000          0\n",
       "1  15810944    Male   35            20000          0\n",
       "2  15668575  Female   26            43000          0\n",
       "3  15603246  Female   27            57000          0\n",
       "4  15804002    Male   19            76000          0"
      ]
     },
     "execution_count": 2,
     "metadata": {},
     "output_type": "execute_result"
    }
   ],
   "source": [
    "dataset = pd.read_csv('Social_Network_Ads.csv')\n",
    "dataset.head()"
   ]
  },
  {
   "cell_type": "markdown",
   "id": "intense-saver",
   "metadata": {},
   "source": [
    "An only feature will be used to make the predicition. For this case, the age of each custumer will be used."
   ]
  },
  {
   "cell_type": "code",
   "execution_count": 36,
   "id": "afraid-central",
   "metadata": {},
   "outputs": [],
   "source": [
    "# Splitting the data into training set and test set\n",
    "X_train, X_test, Y_train, Y_test = train_test_split(dataset['Age'],dataset['Purchased'],test_size=0.2)"
   ]
  },
  {
   "cell_type": "markdown",
   "id": "geographic-session",
   "metadata": {},
   "source": [
    "### Logistic Regression Code\n",
    "\n",
    "A Special Class was made in order to incorporate all the functionalities needed to perform the proper operations with the model. Firstly, it's necessary to initialize the model with the parameters (weightsm and learning rate) and the data samples where X_train contains the ages and Y_train contains the binary value whether the custumer bought something or not.\n",
    "It's Important to highlight that the output from the model is a binary value, but this value is converted due to a probability from the logistic regression function where if P>0.5 the output is equal to 1 and 0 for P<0.5.\n",
    "\n",
    "For this example the weights b0 and b1 will be 0 in the model initialization"
   ]
  },
  {
   "cell_type": "code",
   "execution_count": 28,
   "id": "loved-arrest",
   "metadata": {},
   "outputs": [],
   "source": [
    "#import the Model \n",
    "from LogisticRegression import LogisticRegression\n",
    "# params\n",
    "#X_test = X_test.sort_values()  # Sorting values is optional only to see the line graph\n",
    "b0 = b1 = 0\n",
    "learning_rate = 0.001\n",
    "epochs = 1000"
   ]
  },
  {
   "cell_type": "code",
   "execution_count": 29,
   "id": "flying-course",
   "metadata": {},
   "outputs": [
    {
     "name": "stdout",
     "output_type": "stream",
     "text": [
      "Wall time: 872 ms\n"
     ]
    },
    {
     "data": {
      "text/plain": [
       "0.840625"
      ]
     },
     "execution_count": 29,
     "metadata": {},
     "output_type": "execute_result"
    }
   ],
   "source": [
    "%%time\n",
    "# train the model\n",
    "model = LogisticRegression(b0, b1, learning_rate, epochs, X_train, Y_train)\n",
    "model.accuracy"
   ]
  },
  {
   "cell_type": "markdown",
   "id": "defined-reality",
   "metadata": {},
   "source": [
    "#### Training model Results \n",
    "\n",
    "The training model above gives an almost 85% accuracy for the training dataset, with simple parametrization besides a big number of epochs. The model finished this process in just 609ms."
   ]
  },
  {
   "cell_type": "markdown",
   "id": "conditional-treaty",
   "metadata": {},
   "source": [
    "### Making Predicition"
   ]
  },
  {
   "cell_type": "code",
   "execution_count": 30,
   "id": "communist-kruger",
   "metadata": {},
   "outputs": [
    {
     "data": {
      "text/plain": [
       "0.8480078125"
      ]
     },
     "execution_count": 30,
     "metadata": {},
     "output_type": "execute_result"
    }
   ],
   "source": [
    "y_hat = model.predict(X_test)\n",
    "model.evaluate(y_hat,Y_test)\n",
    "model.accuracy"
   ]
  },
  {
   "cell_type": "code",
   "execution_count": 37,
   "id": "single-check",
   "metadata": {},
   "outputs": [
    {
     "data": {
      "image/png": "[encoded data removed]",
      "text/plain": [
       "<Figure size 720x432 with 1 Axes>"
      ]
     },
     "metadata": {
      "needs_background": "light"
     },
     "output_type": "display_data"
    }
   ],
   "source": [
    "plt.clf()\n",
    "plt.scatter(X_test, Y_test)\n",
    "plt.scatter(X_test, y_hat, c=\"red\")\n",
    "plt.show()"
   ]
  },
  {
   "cell_type": "markdown",
   "id": "derived-airline",
   "metadata": {},
   "source": [
    "### SKLEARN model Comparison \n",
    "\n",
    "Now it's possible to make a simple comparsion between the model developed with the model provided by the Scikit Learn library."
   ]
  },
  {
   "cell_type": "code",
   "execution_count": 40,
   "id": "imposed-brook",
   "metadata": {},
   "outputs": [
    {
     "name": "stderr",
     "output_type": "stream",
     "text": [
      "C:\\Users\\arthu\\AppData\\Local\\Programs\\Python\\Python39\\lib\\site-packages\\sklearn\\utils\\validation.py:63: DataConversionWarning: A column-vector y was passed when a 1d array was expected. Please change the shape of y to (n_samples, ), for example using ravel().\n",
      "  return f(*args, **kwargs)\n"
     ]
    },
    {
     "data": {
      "image/png": "[encoded data removed]",
      "text/plain": [
       "<Figure size 720x432 with 1 Axes>"
      ]
     },
     "metadata": {
      "needs_background": "light"
     },
     "output_type": "display_data"
    },
    {
     "name": "stdout",
     "output_type": "stream",
     "text": [
      "Accuracy = 0.8\n"
     ]
    }
   ],
   "source": [
    "from sklearn.linear_model import LogisticRegression as LR\n",
    "\n",
    "# Create an instance and fit the model \n",
    "lr_model = LR()\n",
    "lr_model.fit(X_train.values.reshape(-1, 1), Y_train.values.reshape(-1, 1))\n",
    "\n",
    "#Making Predictions \n",
    "y_hat_sk = lr_model.predict(X_test.values.reshape(-1, 1))\n",
    "\n",
    "plt.clf()\n",
    "plt.scatter(X_test, Y_test)\n",
    "plt.scatter(X_test, y_hat_sk, c=\"red\")\n",
    "plt.show()\n",
    "\n",
    "# Accuracy\n",
    "print(f\"Accuracy = {lr_model.score(X_test.values.reshape(-1, 1), Y_test.values.reshape(-1, 1))}\")"
   ]
  },
  {
   "cell_type": "markdown",
   "id": "heated-logan",
   "metadata": {},
   "source": [
    "### Conclusion \n",
    "\n",
    "Logistic regression is a simple and fast machine learning model that is easily implemented and can be used for a good variety of cases. The model developed showed a 5% better performanced compared to the SKlearn one, probably due to parametrization.\n",
    "For a further work, an upgrade an be done in the model and a multi variable prediciton can be used to increase the model performance"
   ]
  }
 ],
 "metadata": {
  "kernelspec": {
   "display_name": "Python 3",
   "language": "python",
   "name": "python3"
  },
  "language_info": {
   "codemirror_mode": {
    "name": "ipython",
    "version": 3
   },
   "file_extension": ".py",
   "mimetype": "text/x-python",
   "name": "python",
   "nbconvert_exporter": "python",
   "pygments_lexer": "ipython3",
   "version": "3.9.1"
  }
 },
 "nbformat": 4,
 "nbformat_minor": 5
}
